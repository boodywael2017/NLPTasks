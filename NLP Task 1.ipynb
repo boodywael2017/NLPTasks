{
 "cells": [
  {
   "cell_type": "raw",
   "id": "643cf7e8",
   "metadata": {
    "jupyter": {
     "source_hidden": true
    },
    "papermill": {
     "duration": 0.002999,
     "end_time": "2025-07-18T17:52:47.360208",
     "exception": false,
     "start_time": "2025-07-18T17:52:47.357209",
     "status": "completed"
    },
    "tags": []
   },
   "source": []
  },
  {
   "cell_type": "markdown",
   "id": "b2a9453d",
   "metadata": {
    "papermill": {
     "duration": 0.002215,
     "end_time": "2025-07-18T17:52:47.365444",
     "exception": false,
     "start_time": "2025-07-18T17:52:47.363229",
     "status": "completed"
    },
    "tags": []
   },
   "source": [
    "# Reading the dataset and printing the head values"
   ]
  },
  {
   "cell_type": "code",
   "execution_count": 1,
   "id": "282f749b",
   "metadata": {
    "_cell_guid": "b1076dfc-b9ad-4769-8c92-a6c4dae69d19",
    "_uuid": "8f2839f25d086af736a60e9eeb907d3b93b6e0e5",
    "execution": {
     "iopub.execute_input": "2025-07-18T17:52:47.371026Z",
     "iopub.status.busy": "2025-07-18T17:52:47.370795Z",
     "iopub.status.idle": "2025-07-18T17:52:50.245970Z",
     "shell.execute_reply": "2025-07-18T17:52:50.245022Z"
    },
    "papermill": {
     "duration": 2.879551,
     "end_time": "2025-07-18T17:52:50.247404",
     "exception": false,
     "start_time": "2025-07-18T17:52:47.367853",
     "status": "completed"
    },
    "tags": []
   },
   "outputs": [
    {
     "name": "stdout",
     "output_type": "stream",
     "text": [
      "                                              review sentiment\n",
      "0  One of the other reviewers has mentioned that ...  positive\n",
      "1  A wonderful little production. <br /><br />The...  positive\n",
      "2  I thought this was a wonderful way to spend ti...  positive\n",
      "3  Basically there's a family where a little boy ...  negative\n",
      "4  Petter Mattei's \"Love in the Time of Money\" is...  positive\n"
     ]
    }
   ],
   "source": [
    "import pandas as pd\n",
    "\n",
    "\n",
    "df = pd.read_csv('/kaggle/input/imdb-dataset-of-50k-movie-reviews/IMDB Dataset.csv')\n",
    "\n",
    "print(df.head())\n"
   ]
  },
  {
   "cell_type": "markdown",
   "id": "c239db72",
   "metadata": {
    "papermill": {
     "duration": 0.00249,
     "end_time": "2025-07-18T17:52:50.252672",
     "exception": false,
     "start_time": "2025-07-18T17:52:50.250182",
     "status": "completed"
    },
    "tags": []
   },
   "source": [
    "# **Applying Pre-Processing to The Data \"Removing HTML tags, Lowercasing, Removing panctuation and numbers, tokinaization, removing stopwords and Lemmitaization\"** "
   ]
  },
  {
   "cell_type": "code",
   "execution_count": 2,
   "id": "d8fe4135",
   "metadata": {
    "execution": {
     "iopub.execute_input": "2025-07-18T17:52:50.258669Z",
     "iopub.status.busy": "2025-07-18T17:52:50.258432Z",
     "iopub.status.idle": "2025-07-18T17:53:57.862581Z",
     "shell.execute_reply": "2025-07-18T17:53:57.861722Z"
    },
    "papermill": {
     "duration": 67.610792,
     "end_time": "2025-07-18T17:53:57.866116",
     "exception": false,
     "start_time": "2025-07-18T17:52:50.255324",
     "status": "completed"
    },
    "tags": []
   },
   "outputs": [
    {
     "name": "stderr",
     "output_type": "stream",
     "text": [
      "[nltk_data] Downloading package stopwords to /usr/share/nltk_data...\n",
      "[nltk_data]   Package stopwords is already up-to-date!\n",
      "[nltk_data] Downloading package punkt to /usr/share/nltk_data...\n",
      "[nltk_data]   Package punkt is already up-to-date!\n",
      "[nltk_data] Downloading package wordnet to /usr/share/nltk_data...\n",
      "[nltk_data]   Package wordnet is already up-to-date!\n"
     ]
    },
    {
     "name": "stdout",
     "output_type": "stream",
     "text": [
      "                                              review  \\\n",
      "0  One of the other reviewers has mentioned that ...   \n",
      "1  A wonderful little production. <br /><br />The...   \n",
      "2  I thought this was a wonderful way to spend ti...   \n",
      "3  Basically there's a family where a little boy ...   \n",
      "4  Petter Mattei's \"Love in the Time of Money\" is...   \n",
      "\n",
      "                                        clean_review  \n",
      "0  one reviewer mentioned watching oz episode you...  \n",
      "1  wonderful little production filming technique ...  \n",
      "2  thought wonderful way spend time hot summer we...  \n",
      "3  basically there family little boy jake think t...  \n",
      "4  petter matteis love time money visually stunni...  \n"
     ]
    }
   ],
   "source": [
    "import re\n",
    "import nltk\n",
    "from nltk.corpus import stopwords\n",
    "from nltk.stem import WordNetLemmatizer\n",
    "from nltk.tokenize import word_tokenize\n",
    "from bs4 import BeautifulSoup\n",
    "\n",
    "nltk.download('stopwords')\n",
    "nltk.download('punkt')\n",
    "nltk.download('wordnet')\n",
    "\n",
    "stop_words = set(stopwords.words('english'))\n",
    "lemmatizer = WordNetLemmatizer()\n",
    "\n",
    "def preprocess_text(text):\n",
    "    #removing HTML tags\n",
    "    text = BeautifulSoup(text, \"html.parser\").get_text()\n",
    "    \n",
    "    # 3. Lowercase\n",
    "    text = text.lower()\n",
    "    \n",
    "    # 4. Remove punctuation and numbers\n",
    "    text = re.sub(r'[^a-z\\s]', '', text)\n",
    "    \n",
    "    # 5. Tokenize\n",
    "    words = word_tokenize(text)\n",
    "    \n",
    "    # 6. Remove stopwords and lemmatize\n",
    "    words = [lemmatizer.lemmatize(word) for word in words if word not in stop_words]\n",
    "    \n",
    "    return \" \".join(words)\n",
    "\n",
    "# Apply preprocessing\n",
    "df['clean_review'] = df['review'].apply(preprocess_text)\n",
    "\n",
    "# Check results\n",
    "print(df[['review', 'clean_review']].head())\n"
   ]
  },
  {
   "cell_type": "markdown",
   "id": "f3d0d8e4",
   "metadata": {
    "papermill": {
     "duration": 0.002549,
     "end_time": "2025-07-18T17:53:57.871650",
     "exception": false,
     "start_time": "2025-07-18T17:53:57.869101",
     "status": "completed"
    },
    "tags": []
   },
   "source": [
    "# Applying TF-IDF"
   ]
  },
  {
   "cell_type": "code",
   "execution_count": 3,
   "id": "ed1907fe",
   "metadata": {
    "execution": {
     "iopub.execute_input": "2025-07-18T17:53:57.878142Z",
     "iopub.status.busy": "2025-07-18T17:53:57.877550Z",
     "iopub.status.idle": "2025-07-18T17:54:20.685008Z",
     "shell.execute_reply": "2025-07-18T17:54:20.684116Z"
    },
    "papermill": {
     "duration": 22.812021,
     "end_time": "2025-07-18T17:54:20.686361",
     "exception": false,
     "start_time": "2025-07-18T17:53:57.874340",
     "status": "completed"
    },
    "tags": []
   },
   "outputs": [
    {
     "name": "stdout",
     "output_type": "stream",
     "text": [
      "Improved TF-IDF matrix shape: (50000, 15000)\n"
     ]
    }
   ],
   "source": [
    "from sklearn.feature_extraction.text import TfidfVectorizer\n",
    "\n",
    "tfidf = TfidfVectorizer(\n",
    "    max_features=15000,    # more features\n",
    "    ngram_range=(1, 2),    # unigrams + bigrams\n",
    "    min_df=5,              # ignore very rare words\n",
    "    max_df=0.7             # ignore overly common words\n",
    ")\n",
    "\n",
    "X = tfidf.fit_transform(df['clean_review'])\n",
    "\n",
    "y = df['sentiment'].apply(lambda x: 1 if x == 'positive' else 0)\n",
    "\n",
    "print(\"Improved TF-IDF matrix shape:\", X.shape)\n"
   ]
  },
  {
   "cell_type": "markdown",
   "id": "90dc0665",
   "metadata": {
    "papermill": {
     "duration": 0.002685,
     "end_time": "2025-07-18T17:54:20.692018",
     "exception": false,
     "start_time": "2025-07-18T17:54:20.689333",
     "status": "completed"
    },
    "tags": []
   },
   "source": [
    "# Classifing using Logistic Regresion"
   ]
  },
  {
   "cell_type": "code",
   "execution_count": 4,
   "id": "5c09bbc1",
   "metadata": {
    "execution": {
     "iopub.execute_input": "2025-07-18T17:54:20.698880Z",
     "iopub.status.busy": "2025-07-18T17:54:20.698278Z",
     "iopub.status.idle": "2025-07-18T17:54:22.069137Z",
     "shell.execute_reply": "2025-07-18T17:54:22.068339Z"
    },
    "papermill": {
     "duration": 1.376388,
     "end_time": "2025-07-18T17:54:22.071246",
     "exception": false,
     "start_time": "2025-07-18T17:54:20.694858",
     "status": "completed"
    },
    "tags": []
   },
   "outputs": [
    {
     "name": "stdout",
     "output_type": "stream",
     "text": [
      "Accuracy: 0.8954\n",
      "\n",
      "Classification Report:\n",
      "               precision    recall  f1-score   support\n",
      "\n",
      "           0       0.90      0.88      0.89      7411\n",
      "           1       0.89      0.91      0.90      7589\n",
      "\n",
      "    accuracy                           0.90     15000\n",
      "   macro avg       0.90      0.90      0.90     15000\n",
      "weighted avg       0.90      0.90      0.90     15000\n",
      "\n"
     ]
    }
   ],
   "source": [
    "from sklearn.model_selection import train_test_split\n",
    "from sklearn.linear_model import LogisticRegression\n",
    "from sklearn.metrics import accuracy_score, classification_report\n",
    "\n",
    "X_train, X_test, y_train, y_test = train_test_split(\n",
    "    X, y, test_size=0.3, random_state=42\n",
    ")\n",
    "\n",
    "model = LogisticRegression(max_iter=1000)\n",
    "model.fit(X_train, y_train)\n",
    "\n",
    "y_pred = model.predict(X_test)\n",
    "lr_accuracy = accuracy_score(y_test, y_pred)\n",
    "print(\"Accuracy:\", accuracy_score(y_test, y_pred))\n",
    "print(\"\\nClassification Report:\\n\", classification_report(y_test, y_pred))\n"
   ]
  },
  {
   "cell_type": "markdown",
   "id": "b565aa20",
   "metadata": {
    "papermill": {
     "duration": 0.004292,
     "end_time": "2025-07-18T17:54:22.080244",
     "exception": false,
     "start_time": "2025-07-18T17:54:22.075952",
     "status": "completed"
    },
    "tags": []
   },
   "source": [
    "# Naive Bayes Classification"
   ]
  },
  {
   "cell_type": "code",
   "execution_count": 5,
   "id": "8141177f",
   "metadata": {
    "execution": {
     "iopub.execute_input": "2025-07-18T17:54:22.092162Z",
     "iopub.status.busy": "2025-07-18T17:54:22.090810Z",
     "iopub.status.idle": "2025-07-18T17:54:22.193387Z",
     "shell.execute_reply": "2025-07-18T17:54:22.192466Z"
    },
    "papermill": {
     "duration": 0.109004,
     "end_time": "2025-07-18T17:54:22.194742",
     "exception": false,
     "start_time": "2025-07-18T17:54:22.085738",
     "status": "completed"
    },
    "tags": []
   },
   "outputs": [
    {
     "name": "stdout",
     "output_type": "stream",
     "text": [
      "Naive Bayes Accuracy: 0.8704\n",
      "\n",
      "Classification Report:\n",
      "               precision    recall  f1-score   support\n",
      "\n",
      "           0       0.88      0.86      0.87      7411\n",
      "           1       0.87      0.88      0.87      7589\n",
      "\n",
      "    accuracy                           0.87     15000\n",
      "   macro avg       0.87      0.87      0.87     15000\n",
      "weighted avg       0.87      0.87      0.87     15000\n",
      "\n"
     ]
    }
   ],
   "source": [
    "from sklearn.naive_bayes import MultinomialNB\n",
    "from sklearn.metrics import accuracy_score, classification_report, confusion_matrix\n",
    "\n",
    "nb_model = MultinomialNB()\n",
    "nb_model.fit(X_train, y_train)\n",
    "\n",
    "y_pred_nb = nb_model.predict(X_test)\n",
    "\n",
    "nb_accuracy = accuracy_score(y_test, y_pred_nb)\n",
    "print(f\"Naive Bayes Accuracy: {nb_accuracy:.4f}\")\n",
    "print(\"\\nClassification Report:\\n\", classification_report(y_test, y_pred_nb))\n",
    "\n"
   ]
  },
  {
   "cell_type": "markdown",
   "id": "be7218e7",
   "metadata": {
    "papermill": {
     "duration": 0.003028,
     "end_time": "2025-07-18T17:54:22.201130",
     "exception": false,
     "start_time": "2025-07-18T17:54:22.198102",
     "status": "completed"
    },
    "tags": []
   },
   "source": [
    "# Ploting and comparing between the accuracies of the two models"
   ]
  },
  {
   "cell_type": "code",
   "execution_count": 6,
   "id": "b85e9f27",
   "metadata": {
    "execution": {
     "iopub.execute_input": "2025-07-18T17:54:22.208076Z",
     "iopub.status.busy": "2025-07-18T17:54:22.207598Z",
     "iopub.status.idle": "2025-07-18T17:54:22.430454Z",
     "shell.execute_reply": "2025-07-18T17:54:22.429607Z"
    },
    "papermill": {
     "duration": 0.227557,
     "end_time": "2025-07-18T17:54:22.431740",
     "exception": false,
     "start_time": "2025-07-18T17:54:22.204183",
     "status": "completed"
    },
    "tags": []
   },
   "outputs": [
    {
     "data": {
      "image/png": "[encoded data removed]",
      "text/plain": [
       "<Figure size 600x400 with 1 Axes>"
      ]
     },
     "metadata": {},
     "output_type": "display_data"
    }
   ],
   "source": [
    "import matplotlib.pyplot as plt\n",
    "\n",
    "\n",
    "models = ['Logistic Regression', 'Naive Bayes']\n",
    "accuracies = [lr_accuracy, nb_accuracy]\n",
    "\n",
    "plt.figure(figsize=(6,4))\n",
    "plt.bar(models, accuracies, color=['skyblue', 'lightgreen'])\n",
    "plt.ylim(0, 1)  \n",
    "plt.title('Model Accuracy Comparison')\n",
    "plt.ylabel('Accuracy')\n",
    "\n",
    "for i, acc in enumerate(accuracies):\n",
    "    plt.text(i, acc + 0.01, f\"{acc:.2f}\", ha='center', fontsize=10)\n",
    "\n",
    "plt.show()\n"
   ]
  },
  {
   "cell_type": "markdown",
   "id": "68f1cad0",
   "metadata": {
    "papermill": {
     "duration": 0.003104,
     "end_time": "2025-07-18T17:54:22.438515",
     "exception": false,
     "start_time": "2025-07-18T17:54:22.435411",
     "status": "completed"
    },
    "tags": []
   },
   "source": [
    "# Visualizing the common Positive and Negative words"
   ]
  },
  {
   "cell_type": "code",
   "execution_count": 7,
   "id": "40cead75",
   "metadata": {
    "execution": {
     "iopub.execute_input": "2025-07-18T17:54:22.446008Z",
     "iopub.status.busy": "2025-07-18T17:54:22.445798Z",
     "iopub.status.idle": "2025-07-18T17:54:22.839724Z",
     "shell.execute_reply": "2025-07-18T17:54:22.839038Z"
    },
    "papermill": {
     "duration": 0.399024,
     "end_time": "2025-07-18T17:54:22.841103",
     "exception": false,
     "start_time": "2025-07-18T17:54:22.442079",
     "status": "completed"
    },
    "tags": []
   },
   "outputs": [
    {
     "data": {
      "image/png": "[encoded data removed]",
      "text/plain": [
       "<Figure size 1400x600 with 2 Axes>"
      ]
     },
     "metadata": {},
     "output_type": "display_data"
    }
   ],
   "source": [
    "import numpy as np\n",
    "import matplotlib.pyplot as plt\n",
    "\n",
    "y_array = y.to_numpy()\n",
    "\n",
    "# Get feature names from TF-IDF\n",
    "feature_names = np.array(tfidf.get_feature_names_out())\n",
    "\n",
    "# Separate TF-IDF features for positive and negative reviews\n",
    "X_pos = X[y_array == 1]\n",
    "X_neg = X[y_array == 0]\n",
    "\n",
    "pos_mean = np.asarray(X_pos.mean(axis=0)).ravel()\n",
    "neg_mean = np.asarray(X_neg.mean(axis=0)).ravel()\n",
    "\n",
    "# Get top N words for each sentiment before filtering\n",
    "top_n = 40  \n",
    "pos_idx = pos_mean.argsort()[-top_n:][::-1]\n",
    "neg_idx = neg_mean.argsort()[-top_n:][::-1]\n",
    "\n",
    "pos_words = set(feature_names[pos_idx])\n",
    "neg_words = set(feature_names[neg_idx])\n",
    "\n",
    "# Remove common words\n",
    "unique_pos = pos_words - neg_words\n",
    "unique_neg = neg_words - pos_words\n",
    "\n",
    "unique_pos_scores = {word: pos_mean[np.where(feature_names == word)[0][0]] for word in unique_pos}\n",
    "unique_neg_scores = {word: neg_mean[np.where(feature_names == word)[0][0]] for word in unique_neg}\n",
    "\n",
    "# Select top 5 unique words for each sentiment\n",
    "top_pos = sorted(unique_pos_scores.items(), key=lambda x: x[1], reverse=True)[:5]\n",
    "top_neg = sorted(unique_neg_scores.items(), key=lambda x: x[1], reverse=True)[:5]\n",
    "\n",
    "top_pos_words, top_pos_scores = zip(*top_pos)\n",
    "top_neg_words, top_neg_scores = zip(*top_neg)\n",
    "\n",
    "plt.figure(figsize=(14,6))\n",
    "\n",
    "plt.subplot(1,2,1)\n",
    "plt.barh(top_pos_words[::-1], top_pos_scores[::-1], color='green')\n",
    "plt.title(\"Top Unique Positive Words (TF-IDF)\")\n",
    "plt.xlabel(\"Average TF-IDF Score\")\n",
    "\n",
    "plt.subplot(1,2,2)\n",
    "plt.barh(top_neg_words[::-1], top_neg_scores[::-1], color='red')\n",
    "plt.title(\"Top Unique Negative Words (TF-IDF)\")\n",
    "plt.xlabel(\"Average TF-IDF Score\")\n",
    "\n",
    "plt.tight_layout()\n",
    "plt.show()\n"
   ]
  },
  {
   "cell_type": "code",
   "execution_count": null,
   "id": "de012851",
   "metadata": {
    "papermill": {
     "duration": 0.003418,
     "end_time": "2025-07-18T17:54:22.848516",
     "exception": false,
     "start_time": "2025-07-18T17:54:22.845098",
     "status": "completed"
    },
    "tags": []
   },
   "outputs": [],
   "source": []
  }
 ],
 "metadata": {
  "kaggle": {
   "accelerator": "nvidiaTeslaT4",
   "dataSources": [
    {
     "datasetId": 134715,
     "sourceId": 320111,
     "sourceType": "datasetVersion"
    }
   ],
   "dockerImageVersionId": 31089,
   "isGpuEnabled": true,
   "isInternetEnabled": true,
   "language": "python",
   "sourceType": "notebook"
  },
  "kernelspec": {
   "display_name": "Python 3",
   "language": "python",
   "name": "python3"
  },
  "language_info": {
   "codemirror_mode": {
    "name": "ipython",
    "version": 3
   },
   "file_extension": ".py",
   "mimetype": "text/x-python",
   "name": "python",
   "nbconvert_exporter": "python",
   "pygments_lexer": "ipython3",
   "version": "3.11.13"
  },
  "papermill": {
   "default_parameters": {},
   "duration": 101.316073,
   "end_time": "2025-07-18T17:54:24.273146",
   "environment_variables": {},
   "exception": null,
   "input_path": "__notebook__.ipynb",
   "output_path": "__notebook__.ipynb",
   "parameters": {},
   "start_time": "2025-07-18T17:52:42.957073",
   "version": "2.6.0"
  }
 },
 "nbformat": 4,
 "nbformat_minor": 5
}
